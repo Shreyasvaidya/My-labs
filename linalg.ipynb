{
  "nbformat": 4,
  "nbformat_minor": 0,
  "metadata": {
    "colab": {
      "name": "linalg.ipynb",
      "provenance": [],
      "authorship_tag": "ABX9TyNm2xjSjDyY/WSLUfQy0yrz",
      "include_colab_link": true
    },
    "kernelspec": {
      "name": "python3",
      "display_name": "Python 3"
    },
    "language_info": {
      "name": "python"
    }
  },
  "cells": [
    {
      "cell_type": "markdown",
      "metadata": {
        "id": "view-in-github",
        "colab_type": "text"
      },
      "source": [
        "<a href=\"https://colab.research.google.com/github/Shreyasvaidya/Programming_problems/blob/main/linalg.ipynb\" target=\"_parent\"><img src=\"https://colab.research.google.com/assets/colab-badge.svg\" alt=\"Open In Colab\"/></a>"
      ]
    },
    {
      "cell_type": "code",
      "execution_count": null,
      "metadata": {
        "colab": {
          "base_uri": "https://localhost:8080/"
        },
        "id": "n2PSGZ45m0tb",
        "outputId": "dd3ec09f-079e-4d03-a6d7-60e014ecd809"
      },
      "outputs": [
        {
          "output_type": "stream",
          "name": "stdout",
          "text": [
            "[[ 9  6  5]\n",
            " [ 2 16  6]\n",
            " [ 5  4 12]]\n"
          ]
        }
      ],
      "source": [
        "import numpy as np\n",
        "v=np.random.randint(20,size=(3,3))\n",
        "print(v)"
      ]
    },
    {
      "cell_type": "code",
      "source": [
        "s=np.random.randint(20,size=(3,3))\n",
        "v_sim=np.matmul(np.matmul(np.linalg.inv(s),v),s)\n",
        "print(v_sim)"
      ],
      "metadata": {
        "colab": {
          "base_uri": "https://localhost:8080/"
        },
        "id": "MSXmS3Qq78o4",
        "outputId": "aba8d6c1-0ef1-4a1c-d06f-c233580dd316"
      },
      "execution_count": null,
      "outputs": [
        {
          "output_type": "stream",
          "name": "stdout",
          "text": [
            "[[ -1.53191489 -10.89361702  -4.10638298]\n",
            " [ 45.70212766  45.65957447  40.84042553]\n",
            " [-12.63829787  -7.87234043  -7.12765957]]\n"
          ]
        }
      ]
    },
    {
      "cell_type": "code",
      "source": [
        "ev=np.linalg.eig(v)\n",
        "print(ev)\n",
        "es=np.linalg.eig(v_sim)\n",
        "print(es)"
      ],
      "metadata": {
        "colab": {
          "base_uri": "https://localhost:8080/"
        },
        "id": "QWg-8p4b8gfn",
        "outputId": "f3b17597-9204-4fe4-9463-d83ff15851c3"
      },
      "execution_count": null,
      "outputs": [
        {
          "output_type": "stream",
          "name": "stdout",
          "text": [
            "(array([22.10473778,  6.13497173,  8.76029049]), array([[-0.51165206, -0.59967085,  0.01485241],\n",
            "       [-0.6816657 , -0.32357894, -0.64046391],\n",
            "       [-0.52301438,  0.73190952,  0.76784464]]))\n",
            "(array([22.10473778,  8.76029049,  6.13497173]), array([[ 0.40766127, -0.74723357, -0.77327396],\n",
            "       [-0.91052568,  0.59260553,  0.34326658],\n",
            "       [ 0.06895854,  0.30076681,  0.53311859]]))\n"
          ]
        }
      ]
    },
    {
      "cell_type": "code",
      "source": [
        "#magnitude of vector\n",
        "n=int(input(\"Enter number of components\"))\n",
        "sum_vectors=0\n",
        "for i in range(n):\n",
        "  x=int(input(\"Enter component\"))\n",
        "  sum_vectors+=(x**2)\n",
        "\n",
        "magnitude=sum_vectors**(1/2)\n",
        "print(magnitude) "
      ],
      "metadata": {
        "colab": {
          "base_uri": "https://localhost:8080/"
        },
        "id": "lkPaaWVi-WKs",
        "outputId": "e0d0d78e-2860-43eb-fa7a-f4adc4351bd2"
      },
      "execution_count": 6,
      "outputs": [
        {
          "output_type": "stream",
          "name": "stdout",
          "text": [
            "Enter number of components4\n",
            "Enter component-11423\n",
            "Enter component8594\n",
            "Enter component5961\n",
            "Enter component5912\n",
            "16577.907889718776\n"
          ]
        }
      ]
    }
  ]
}